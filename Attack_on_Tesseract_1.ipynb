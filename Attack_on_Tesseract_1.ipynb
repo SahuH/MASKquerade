{
 "cells": [
  {
   "cell_type": "code",
   "execution_count": 1,
   "id": "71dba0df",
   "metadata": {},
   "outputs": [],
   "source": [
    "%matplotlib inline\n",
    "\n",
    "import os\n",
    "import math\n",
    "import numpy as np\n",
    "import imageio\n",
    "from matplotlib import pyplot as plt\n",
    "from IPython.display import clear_output\n",
    "import cv2\n",
    "from PIL import Image, ImageFont, ImageDraw\n",
    "\n",
    "import pytesseract\n",
    "pytesseract.pytesseract.tesseract_cmd = r'/opt/homebrew/bin/tesseract'"
   ]
  },
  {
   "cell_type": "code",
   "execution_count": null,
   "id": "c3a1f0d1",
   "metadata": {},
   "outputs": [],
   "source": [
    "from __future__ import absolute_import, division, print_function, unicode_literals\n",
    "from art.estimators.classification import BlackBoxClassifier\n",
    "from art.defences.preprocessor import JpegCompression\n",
    "from art.attacks.evasion import HopSkipJump\n",
    "from art.utils import to_categorical"
   ]
  },
  {
   "cell_type": "code",
   "execution_count": 33,
   "id": "63a4f3ec",
   "metadata": {},
   "outputs": [],
   "source": [
    "def create_OCR_image(text):\n",
    "    image_size = (150, 50)\n",
    "    img_colour = (255, 255, 255)\n",
    "    img = Image.new('RGB', image_size, color=img_colour)\n",
    "    image_editable = ImageDraw.Draw(img)\n",
    "    text_colour = (0, 0, 0)\n",
    "    text_font_size = 15.652173913043478\n",
    "    text_font = ImageFont.truetype('./fonts/raleway/Raleway-Bold.ttf', text_font_size)\n",
    "    image_editable.text((0,-16), text, fill=text_colour, font=text_font)\n",
    "    img = np.array(img)\n",
    "    plt.imshow(img)\n",
    "    return img\n",
    "\n",
    "def predict(x):\n",
    "    out_label = []\n",
    "    for x_i in x:\n",
    "        x_i = x_i.astype(np.uint8)\n",
    "        out_string = pytesseract.image_to_string(x_i).strip()\n",
    "#         print('`'+out_string+'`')\n",
    "        if out_string:\n",
    "            out_string = out_string.split()[0]\n",
    "        if out_string == 'cant':\n",
    "            out_label.append(0)\n",
    "        elif out_string == 'can':\n",
    "            out_label.append(1)\n",
    "        else:\n",
    "            out_label.append(2)\n",
    "    out_label_cat = to_categorical(out_label, 3)\n",
    "    return out_label_cat\n",
    "\n",
    "def predict_text(model, image, label_dict):\n",
    "    plt.imshow(image[:,:,0])\n",
    "    plt.show()\n",
    "    image_lst = np.array([image], dtype=np.float32)\n",
    "    out_label_cat = model.predict(image_lst)\n",
    "    print(label_dict[np.argmax(out_label_cat)])\n",
    "    \n",
    "def create_mask(model, image_init, image_target, label_dict):\n",
    "    attack = HopSkipJump(classifier=model, targeted=True, norm=2, max_iter=0, max_eval=1000, init_eval=10)\n",
    "    iter_step = 10\n",
    "    l2_error_lst = []\n",
    "    x_adv = np.array([image_init], dtype=np.float32)\n",
    "    for i in range(15):\n",
    "        x_adv = attack.generate(x=np.array([image_target], dtype=np.float32), x_adv_init=x_adv, y=to_categorical([1], 3))\n",
    "        l2_error = np.linalg.norm(np.reshape(x_adv[0]-image_target,[-1]))\n",
    "        l2_error_lst.append(l2_error)\n",
    "        print(\"Adversarial image at step %d.\" % (i*iter_step))\n",
    "        print(\"L2 error: %.6f\" %l2_error)\n",
    "        print(\"Tesseract output is: %s.\" % label_dict[np.argmax(model.predict(x_adv)[0])])\n",
    "        plt.imshow(x_adv[0,:,:,0])\n",
    "        plt.show(block=False)\n",
    "        attack.max_iter = iter_step\n",
    "        if i>=1 and abs(l2_error_lst[-2]-l2_error_lst[-1])/l2_error_lst[-2]<0.01:\n",
    "            break\n",
    "    return x_adv, l2_error_lst"
   ]
  },
  {
   "cell_type": "code",
   "execution_count": null,
   "id": "738d85f8",
   "metadata": {},
   "outputs": [],
   "source": [
    "#Text that you want the model to read\n",
    "init_word = 'can'\n",
    "#Text that you want to show on the image\n",
    "target_word = 'cant'\n",
    "label_dict = {0: target_word, 1: init_word, 2: 'other'}\n",
    "\n",
    "image_init = create_OCR_image(init_word)\n",
    "image_target = create_OCR_image(target_word)\n",
    "\n",
    "\n",
    "model = BlackBoxClassifier(predict, image_target.shape, 3, clip_values=(0, 255))\n",
    "predict_text(model, image_init, label_dict)\n",
    "predict_text(model, image_target, label_dict)"
   ]
  },
  {
   "cell_type": "code",
   "execution_count": null,
   "id": "4e41617b",
   "metadata": {},
   "outputs": [],
   "source": []
  },
  {
   "cell_type": "code",
   "execution_count": 9,
   "id": "ae6b0700",
   "metadata": {
    "scrolled": false
   },
   "outputs": [
    {
     "name": "stderr",
     "output_type": "stream",
     "text": [
      "HopSkipJump: 100%|██████████████████████████████████████████████████████████████████████████████████████████████████████████████████████████████████████████████████████████| 1/1 [00:00<00:00, 1804.78it/s]\n"
     ]
    },
    {
     "name": "stdout",
     "output_type": "stream",
     "text": [
      "Adversarial image at step 0.\n",
      "L2 error: 4186.825195\n",
      "Tesseract output is: can.\n"
     ]
    },
    {
     "data": {
      "image/png": "[encoded data removed]",
      "text/plain": [
       "<Figure size 432x288 with 1 Axes>"
      ]
     },
     "metadata": {
      "needs_background": "light"
     },
     "output_type": "display_data"
    },
    {
     "name": "stderr",
     "output_type": "stream",
     "text": [
      "HopSkipJump: 100%|████████████████████████████████████████████████████████████████████████████████████████████████████████████████████████████████████████████████████████████| 1/1 [00:38<00:00, 38.74s/it]\n"
     ]
    },
    {
     "name": "stdout",
     "output_type": "stream",
     "text": [
      "Adversarial image at step 10.\n",
      "L2 error: 2282.255859\n",
      "Tesseract output is: can.\n"
     ]
    },
    {
     "data": {
      "image/png": "[encoded data removed]",
      "text/plain": [
       "<Figure size 432x288 with 1 Axes>"
      ]
     },
     "metadata": {
      "needs_background": "light"
     },
     "output_type": "display_data"
    },
    {
     "name": "stderr",
     "output_type": "stream",
     "text": [
      "HopSkipJump: 100%|████████████████████████████████████████████████████████████████████████████████████████████████████████████████████████████████████████████████████████████| 1/1 [00:42<00:00, 42.13s/it]\n"
     ]
    },
    {
     "name": "stdout",
     "output_type": "stream",
     "text": [
      "Adversarial image at step 20.\n",
      "L2 error: 2282.256104\n",
      "Tesseract output is: can.\n"
     ]
    },
    {
     "data": {
      "image/png": "[encoded data removed]",
      "text/plain": [
       "<Figure size 432x288 with 1 Axes>"
      ]
     },
     "metadata": {
      "needs_background": "light"
     },
     "output_type": "display_data"
    }
   ],
   "source": [
    "adv_img, l2_error_lst = create_mask(model, image_init, image_target, label_dict)"
   ]
  },
  {
   "cell_type": "code",
   "execution_count": null,
   "id": "a8d38576",
   "metadata": {},
   "outputs": [],
   "source": []
  },
  {
   "cell_type": "code",
   "execution_count": 10,
   "id": "a8ca993f",
   "metadata": {},
   "outputs": [
    {
     "name": "stdout",
     "output_type": "stream",
     "text": [
      "After perturbation\n"
     ]
    },
    {
     "data": {
      "image/png": "[encoded data removed]",
      "text/plain": [
       "<Figure size 432x288 with 1 Axes>"
      ]
     },
     "metadata": {
      "needs_background": "light"
     },
     "output_type": "display_data"
    },
    {
     "name": "stdout",
     "output_type": "stream",
     "text": [
      "Tesseract output: can\n",
      "\n"
     ]
    }
   ],
   "source": [
    "# Verify\n",
    "\n",
    "adv_img_copy = adv_img.astype(np.uint8)\n",
    "plt.imshow(adv_img_copy[0,:,:,0])\n",
    "print('After perturbation')\n",
    "plt.show()\n",
    "print(\"Tesseract output: \"+pytesseract.image_to_string(adv_img_copy[0,:,:,0]))"
   ]
  },
  {
   "cell_type": "code",
   "execution_count": null,
   "id": "a36a5661",
   "metadata": {},
   "outputs": [],
   "source": []
  },
  {
   "cell_type": "code",
   "execution_count": null,
   "id": "ee6cccdd",
   "metadata": {},
   "outputs": [],
   "source": []
  }
 ],
 "metadata": {
  "kernelspec": {
   "display_name": "Python 3 (ipykernel)",
   "language": "python",
   "name": "python3"
  },
  "language_info": {
   "codemirror_mode": {
    "name": "ipython",
    "version": 3
   },
   "file_extension": ".py",
   "mimetype": "text/x-python",
   "name": "python",
   "nbconvert_exporter": "python",
   "pygments_lexer": "ipython3",
   "version": "3.7.13"
  }
 },
 "nbformat": 4,
 "nbformat_minor": 5
}
