{
 "cells": [
  {
   "cell_type": "code",
   "execution_count": 1,
   "id": "c952436b",
   "metadata": {},
   "outputs": [],
   "source": [
    "import os\n",
    "import math\n",
    "import numpy as np\n",
    "import pandas as pd\n",
    "from matplotlib import pyplot as plt\n",
    "import imageio\n",
    "import cv2\n",
    "from IPython.display import clear_output\n",
    "from PIL import Image, ImageFont, ImageDraw"
   ]
  },
  {
   "cell_type": "code",
   "execution_count": 2,
   "id": "0710c4b5",
   "metadata": {},
   "outputs": [
    {
     "name": "stderr",
     "output_type": "stream",
     "text": [
      "/Users/hsahu/opt/anaconda3/envs/tf/lib/python3.7/site-packages/tqdm/auto.py:22: TqdmWarning: IProgress not found. Please update jupyter and ipywidgets. See https://ipywidgets.readthedocs.io/en/stable/user_install.html\n",
      "  from .autonotebook import tqdm as notebook_tqdm\n"
     ]
    }
   ],
   "source": [
    "# Importing HopSkipJump\n",
    "from __future__ import absolute_import, division, print_function, unicode_literals\n",
    "from art.estimators.classification import BlackBoxClassifier\n",
    "from art.defences.preprocessor import JpegCompression\n",
    "from art.attacks.evasion import HopSkipJump\n",
    "from art.utils import to_categorical"
   ]
  },
  {
   "cell_type": "code",
   "execution_count": 3,
   "id": "e0bb5fdc",
   "metadata": {},
   "outputs": [],
   "source": [
    "# Importing Tesseract's python wrapper\n",
    "import pytesseract\n",
    "# Defining the path of installed Tesseract\n",
    "pytesseract.pytesseract.tesseract_cmd = r'/opt/homebrew/bin/tesseract'"
   ]
  },
  {
   "cell_type": "code",
   "execution_count": 4,
   "id": "57076c42",
   "metadata": {},
   "outputs": [],
   "source": [
    "# Creating Text based Images\n",
    "\n",
    "def create_OCR_image(text):\n",
    "    image_size = (106, 32)\n",
    "    img_colour = (255, 255, 255)\n",
    "    img = Image.new('RGB', image_size, color=img_colour)\n",
    "    image_editable = ImageDraw.Draw(img)\n",
    "    text_colour = (0, 0, 0)\n",
    "    text_font_size = 28\n",
    "    text_font = ImageFont.truetype('./fonts/Raleway-Bold.ttf', text_font_size)\n",
    "    image_editable.text((20,-2), text, fill=text_colour, font=text_font)\n",
    "    img = np.array(img)\n",
    "    plt.imshow(img)\n",
    "    return img"
   ]
  },
  {
   "cell_type": "code",
   "execution_count": 5,
   "id": "b1ecd325",
   "metadata": {},
   "outputs": [
    {
     "data": {
      "image/png": "[encoded data removed]",
      "text/plain": [
       "<Figure size 432x288 with 1 Axes>"
      ]
     },
     "metadata": {
      "needs_background": "light"
     },
     "output_type": "display_data"
    }
   ],
   "source": [
    "#Text that you want the model to read\n",
    "init_word = 'can'\n",
    "image_init = create_OCR_image(init_word)"
   ]
  },
  {
   "cell_type": "code",
   "execution_count": 6,
   "id": "ad04eaec",
   "metadata": {},
   "outputs": [
    {
     "data": {
      "image/png": "[encoded data removed]",
      "text/plain": [
       "<Figure size 432x288 with 1 Axes>"
      ]
     },
     "metadata": {
      "needs_background": "light"
     },
     "output_type": "display_data"
    }
   ],
   "source": [
    "#Text that you want to show on the image\n",
    "target_word = 'cant'\n",
    "image_target = create_OCR_image(target_word)"
   ]
  },
  {
   "cell_type": "code",
   "execution_count": 7,
   "id": "7fbed857",
   "metadata": {},
   "outputs": [],
   "source": [
    "label_dict = {0: target_word, 1: init_word, 2: 'other'}"
   ]
  },
  {
   "cell_type": "code",
   "execution_count": 8,
   "id": "a1654c0d",
   "metadata": {},
   "outputs": [],
   "source": [
    "# Define a predict function which will call Tesseract to predict text in the given image\n",
    "\n",
    "def predict(x):\n",
    "    out_label = []\n",
    "    for x_i in x:\n",
    "        x_i = x_i.astype(np.uint8)\n",
    "        out_string = pytesseract.image_to_string(x_i).strip()\n",
    "        if out_string:\n",
    "            out_string = out_string.split()[0]\n",
    "        if out_string == 'cant':\n",
    "            out_label.append(0)\n",
    "        elif out_string == 'can':\n",
    "            out_label.append(1)\n",
    "        else:\n",
    "            out_label.append(2)\n",
    "    out_label_cat = to_categorical(out_label, 3)\n",
    "    return out_label_cat\n",
    "\n",
    "def predict_text(model, image, label_dict):\n",
    "    plt.imshow(image[:,:,0])\n",
    "    plt.show()\n",
    "    image_lst = np.array([image], dtype=np.float32)\n",
    "    out_label_cat = model.predict(image_lst)\n",
    "    print(label_dict[np.argmax(out_label_cat)])"
   ]
  },
  {
   "cell_type": "code",
   "execution_count": 9,
   "id": "12027498",
   "metadata": {},
   "outputs": [],
   "source": [
    "# Define BlackBoxClassifier using the predict function\n",
    "model = BlackBoxClassifier(predict, image_target.shape, 3, clip_values=(0, 255))\n"
   ]
  },
  {
   "cell_type": "code",
   "execution_count": 10,
   "id": "eb77cc70",
   "metadata": {},
   "outputs": [
    {
     "data": {
      "image/png": "[encoded data removed]",
      "text/plain": [
       "<Figure size 432x288 with 1 Axes>"
      ]
     },
     "metadata": {
      "needs_background": "light"
     },
     "output_type": "display_data"
    },
    {
     "name": "stdout",
     "output_type": "stream",
     "text": [
      "can\n"
     ]
    }
   ],
   "source": [
    "# Lets check Tesseract's output on the Initial Image\n",
    "\n",
    "predict_text(model, image_init, label_dict)"
   ]
  },
  {
   "cell_type": "code",
   "execution_count": 11,
   "id": "06b25555",
   "metadata": {},
   "outputs": [
    {
     "data": {
      "image/png": "[encoded data removed]",
      "text/plain": [
       "<Figure size 432x288 with 1 Axes>"
      ]
     },
     "metadata": {
      "needs_background": "light"
     },
     "output_type": "display_data"
    },
    {
     "name": "stdout",
     "output_type": "stream",
     "text": [
      "cant\n"
     ]
    }
   ],
   "source": [
    "# Lets check Tesseract's output on the Target Image\n",
    "\n",
    "predict_text(model, image_target, label_dict)"
   ]
  },
  {
   "cell_type": "code",
   "execution_count": 23,
   "id": "7d030044",
   "metadata": {},
   "outputs": [
    {
     "name": "stderr",
     "output_type": "stream",
     "text": [
      "HopSkipJump: 100%|██████████████████████████████████████████████████████████████████████████████████████████████████████████████████████████████████████████████████████████| 1/1 [00:00<00:00, 2247.75it/s]\n"
     ]
    },
    {
     "name": "stdout",
     "output_type": "stream",
     "text": [
      "Adversarial image at step 0.\n",
      "L2 error: 4186.825195\n",
      "Tesseract output is: can.\n"
     ]
    },
    {
     "data": {
      "image/png": "[encoded data removed]",
      "text/plain": [
       "<Figure size 432x288 with 1 Axes>"
      ]
     },
     "metadata": {
      "needs_background": "light"
     },
     "output_type": "display_data"
    },
    {
     "name": "stderr",
     "output_type": "stream",
     "text": [
      "HopSkipJump: 100%|████████████████████████████████████████████████████████████████████████████████████████████████████████████████████████████████████████████████████████████| 1/1 [00:39<00:00, 39.03s/it]\n"
     ]
    },
    {
     "name": "stdout",
     "output_type": "stream",
     "text": [
      "Adversarial image at step 10.\n",
      "L2 error: 2282.258545\n",
      "Tesseract output is: can.\n"
     ]
    },
    {
     "data": {
      "image/png": "[encoded data removed]",
      "text/plain": [
       "<Figure size 432x288 with 1 Axes>"
      ]
     },
     "metadata": {
      "needs_background": "light"
     },
     "output_type": "display_data"
    },
    {
     "name": "stderr",
     "output_type": "stream",
     "text": [
      "HopSkipJump: 100%|████████████████████████████████████████████████████████████████████████████████████████████████████████████████████████████████████████████████████████████| 1/1 [00:38<00:00, 38.84s/it]\n"
     ]
    },
    {
     "name": "stdout",
     "output_type": "stream",
     "text": [
      "Adversarial image at step 20.\n",
      "L2 error: 2282.258789\n",
      "Tesseract output is: can.\n"
     ]
    },
    {
     "data": {
      "image/png": "[encoded data removed]",
      "text/plain": [
       "<Figure size 432x288 with 1 Axes>"
      ]
     },
     "metadata": {
      "needs_background": "light"
     },
     "output_type": "display_data"
    }
   ],
   "source": [
    "# Adversarial attack using HopSkipJump\n",
    "'''\n",
    "Optimization of adversarial image stops after either 15 iterations or \n",
    "when the consecutive error does not decrease more than 1%\n",
    "'''\n",
    "\n",
    "def create_mask(model, image_init, image_target, label_dict):\n",
    "    attack = HopSkipJump(classifier=model, targeted=True, norm=2, max_iter=0, max_eval=1000, init_eval=10)\n",
    "    iter_step = 10\n",
    "    l2_error_lst = []\n",
    "    x_adv = np.array([image_init], dtype=np.float32)\n",
    "    for i in range(15):\n",
    "        x_adv = attack.generate(x=np.array([image_target], dtype=np.float32), x_adv_init=x_adv, y=to_categorical([1], 3))\n",
    "        l2_error = np.linalg.norm(np.reshape(x_adv[0]-image_target,[-1]))\n",
    "        l2_error_lst.append(l2_error)\n",
    "        print(\"Adversarial image at step %d.\" % (i*iter_step))\n",
    "        print(\"L2 error: %.6f\" %l2_error)\n",
    "        print(\"Tesseract output is: %s.\" % label_dict[np.argmax(model.predict(x_adv)[0])])\n",
    "        plt.imshow(x_adv[0,:,:,0])\n",
    "        plt.show(block=False)\n",
    "        attack.max_iter = iter_step\n",
    "        if i>=1 and abs(l2_error_lst[-2]-l2_error_lst[-1])/l2_error_lst[-2]<0.01:\n",
    "            break\n",
    "    return x_adv, l2_error_lst\n",
    "\n",
    "adv_img, l2_error_lst = create_mask(model, image_init, image_target, label_dict)\n"
   ]
  },
  {
   "cell_type": "code",
   "execution_count": 24,
   "id": "ace16b99",
   "metadata": {},
   "outputs": [
    {
     "name": "stdout",
     "output_type": "stream",
     "text": [
      "After perturbation\n"
     ]
    },
    {
     "data": {
      "image/png": "[encoded data removed]",
      "text/plain": [
       "<Figure size 432x288 with 1 Axes>"
      ]
     },
     "metadata": {
      "needs_background": "light"
     },
     "output_type": "display_data"
    },
    {
     "name": "stdout",
     "output_type": "stream",
     "text": [
      "Tesseract output: can\n",
      "\n"
     ]
    }
   ],
   "source": [
    "# Let's verify the created adversarial Image\n",
    "\n",
    "adv_img_copy = adv_img.astype(np.uint8)\n",
    "plt.imshow(adv_img_copy[0,:,:,0])\n",
    "print('After perturbation')\n",
    "plt.show()\n",
    "print(\"Tesseract output: \"+pytesseract.image_to_string(adv_img_copy[0,:,:,0]))"
   ]
  },
  {
   "cell_type": "code",
   "execution_count": null,
   "id": "f87eafa1",
   "metadata": {},
   "outputs": [],
   "source": []
  },
  {
   "cell_type": "code",
   "execution_count": null,
   "id": "f0478a08",
   "metadata": {},
   "outputs": [],
   "source": []
  }
 ],
 "metadata": {
  "kernelspec": {
   "display_name": "Python 3 (ipykernel)",
   "language": "python",
   "name": "python3"
  },
  "language_info": {
   "codemirror_mode": {
    "name": "ipython",
    "version": 3
   },
   "file_extension": ".py",
   "mimetype": "text/x-python",
   "name": "python",
   "nbconvert_exporter": "python",
   "pygments_lexer": "ipython3",
   "version": "3.7.13"
  }
 },
 "nbformat": 4,
 "nbformat_minor": 5
}
